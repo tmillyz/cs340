{
 "cells": [
  {
   "cell_type": "code",
   "execution_count": 1,
   "id": "f0139e99",
   "metadata": {},
   "outputs": [],
   "source": [
    "from animalshelter import AnimalShelter"
   ]
  },
  {
   "cell_type": "code",
   "execution_count": 5,
   "id": "abacecee",
   "metadata": {},
   "outputs": [],
   "source": [
    "shelter = AnimalShelter('aacuser', 'passw0rd1', 'nv-desktop-services.apporto.com', 30131, 'AAC', 'animals')"
   ]
  },
  {
   "cell_type": "code",
   "execution_count": 6,
   "id": "1146e66f",
   "metadata": {},
   "outputs": [],
   "source": [
    "test_data = {\n",
    "    \"age_upon_outcome\": \"2 years\",\n",
    "    \"animal_id\": \"A123456\",\n",
    "    \"animal_type\": \"Dog\",\n",
    "    \"breed\": \"Labrador Retriever\",\n",
    "    \"color\": \"Black\",\n",
    "    \"name\": \"Buddy\",\n",
    "    \"outcome_type\": \"Adoption\",\n",
    "}"
   ]
  },
  {
   "cell_type": "code",
   "execution_count": 7,
   "id": "485d0288",
   "metadata": {},
   "outputs": [
    {
     "name": "stdout",
     "output_type": "stream",
     "text": [
      "Creation Result: True\n"
     ]
    }
   ],
   "source": [
    "create_results = shelter.create(test_data)\n",
    "print(f\"Creation Result: {create_results}\")"
   ]
  },
  {
   "cell_type": "code",
   "execution_count": 8,
   "id": "806bf111",
   "metadata": {},
   "outputs": [
    {
     "name": "stdout",
     "output_type": "stream",
     "text": [
      "Read Result: [{'rec_num': 724, 'age_upon_outcome': '4 months', 'animal_id': 'A675568', 'animal_type': 'Dog', 'breed': 'Chihuahua Shorthair Mix', 'color': 'Brown/White', 'date_of_birth': '2013-11-18', 'datetime': '2014-04-03 17:53:00', 'monthyear': '2014-04-03T17:53:00', 'name': 'Buddy', 'outcome_subtype': '', 'outcome_type': 'Adoption', 'sex_upon_outcome': 'Neutered Male', 'location_lat': 30.708106432952, 'location_long': -97.3499268421422, 'age_upon_outcome_in_weeks': 19.5350198412698}, {'rec_num': 842, 'age_upon_outcome': '6 years', 'animal_id': 'A736590', 'animal_type': 'Dog', 'breed': 'Jack Russell Terrier Mix', 'color': 'White/Brown', 'date_of_birth': '2010-01-30', 'datetime': '2016-11-05 13:53:00', 'monthyear': '2016-11-05T13:53:00', 'name': 'Buddy', 'outcome_subtype': '', 'outcome_type': 'Adoption', 'sex_upon_outcome': 'Neutered Male', 'location_lat': 30.466259071107, 'location_long': -97.5483512881312, 'age_upon_outcome_in_weeks': 353.082638888889}, {'rec_num': 1549, 'age_upon_outcome': '3 months', 'animal_id': 'A731554', 'animal_type': 'Cat', 'breed': 'Domestic Shorthair Mix', 'color': 'Black', 'date_of_birth': '2016-05-08', 'datetime': '2016-08-13 12:27:00', 'monthyear': '2016-08-13T12:27:00', 'name': 'Buddy', 'outcome_subtype': 'Partner', 'outcome_type': 'Transfer', 'sex_upon_outcome': 'Neutered Male', 'location_lat': 30.4517515724453, 'location_long': -97.7272941918411, 'age_upon_outcome_in_weeks': 13.93125}, {'rec_num': 2092, 'age_upon_outcome': '7 years', 'animal_id': 'A697660', 'animal_type': 'Dog', 'breed': 'Staffordshire/Bull Terrier', 'color': 'White/Black', 'date_of_birth': '2008-02-26', 'datetime': '2015-05-16 16:46:00', 'monthyear': '2015-05-16T16:46:00', 'name': 'Buddy', 'outcome_subtype': '', 'outcome_type': 'Return to Owner', 'sex_upon_outcome': 'Neutered Male', 'location_lat': 30.3793418287565, 'location_long': -97.309496960952, 'age_upon_outcome_in_weeks': 376.67123015873}, {'rec_num': 2219, 'age_upon_outcome': '1 year', 'animal_id': 'A685577', 'animal_type': 'Dog', 'breed': 'Border Collie Mix', 'color': 'Black/White', 'date_of_birth': '2013-08-09', 'datetime': '2014-08-11 11:19:00', 'monthyear': '2014-08-11T11:19:00', 'name': 'Buddy', 'outcome_subtype': '', 'outcome_type': 'Return to Owner', 'sex_upon_outcome': 'Neutered Male', 'location_lat': 30.4043661272505, 'location_long': -97.6387992602727, 'age_upon_outcome_in_weeks': 52.4959325396825}, {'rec_num': 2614, 'age_upon_outcome': '2 months', 'animal_id': 'A758482', 'animal_type': 'Cat', 'breed': 'Domestic Medium Hair Mix', 'color': 'White/Brown Tabby', 'date_of_birth': '2017-07-14', 'datetime': '2017-09-29 16:08:00', 'monthyear': '2017-09-29T16:08:00', 'name': 'Buddy', 'outcome_subtype': '', 'outcome_type': 'Adoption', 'sex_upon_outcome': 'Neutered Male', 'location_lat': 30.2747778541436, 'location_long': -97.5447890467441, 'age_upon_outcome_in_weeks': 11.0960317460317}, {'rec_num': 2849, 'age_upon_outcome': '5 years', 'animal_id': 'A718769', 'animal_type': 'Dog', 'breed': 'Doberman Pinsch Mix', 'color': 'Buff', 'date_of_birth': '2011-03-06', 'datetime': '2016-03-09 12:01:00', 'monthyear': '2016-03-09T12:01:00', 'name': 'Buddy', 'outcome_subtype': 'Partner', 'outcome_type': 'Transfer', 'sex_upon_outcome': 'Neutered Male', 'location_lat': 30.7627493523464, 'location_long': -97.361116815876, 'age_upon_outcome_in_weeks': 261.500099206349}, {'rec_num': 2918, 'age_upon_outcome': '4 years', 'animal_id': 'A689261', 'animal_type': 'Dog', 'breed': 'Dachshund Wirehair Mix', 'color': 'White', 'date_of_birth': '2013-12-01', 'datetime': '2018-01-19 11:26:00', 'monthyear': '2018-01-19T11:26:00', 'name': 'Buddy', 'outcome_subtype': '', 'outcome_type': 'Return to Owner', 'sex_upon_outcome': 'Neutered Male', 'location_lat': 30.7061581639938, 'location_long': -97.3622817104454, 'age_upon_outcome_in_weeks': 215.782341269841}, {'rec_num': 3108, 'age_upon_outcome': '2 years', 'animal_id': 'A669506', 'animal_type': 'Dog', 'breed': 'Beagle Mix', 'color': 'Tricolor', 'date_of_birth': '2011-12-21', 'datetime': '2014-04-03 19:07:00', 'monthyear': '2014-04-03T19:07:00', 'name': 'Buddy', 'outcome_subtype': 'Partner', 'outcome_type': 'Transfer', 'sex_upon_outcome': 'Neutered Male', 'location_lat': 30.6954226003149, 'location_long': -97.3407075977656, 'age_upon_outcome_in_weeks': 119.256646825397}, {'rec_num': 5818, 'age_upon_outcome': '8 months', 'animal_id': 'A722180', 'animal_type': 'Dog', 'breed': 'Maltese/Miniature Poodle', 'color': 'White', 'date_of_birth': '2015-07-12', 'datetime': '2016-03-14 18:01:00', 'monthyear': '2016-03-14T18:01:00', 'name': 'Buddy', 'outcome_subtype': '', 'outcome_type': 'Return to Owner', 'sex_upon_outcome': 'Neutered Male', 'location_lat': 30.7599948333641, 'location_long': -97.3298616920894, 'age_upon_outcome_in_weeks': 35.2500992063492}, {'rec_num': 6412, 'age_upon_outcome': '2 years', 'animal_id': 'A698999', 'animal_type': 'Cat', 'breed': 'Domestic Shorthair Mix', 'color': 'Brown Tabby', 'date_of_birth': '2013-03-20', 'datetime': '2015-03-26 09:00:00', 'monthyear': '2015-03-26T09:00:00', 'name': 'Buddy', 'outcome_subtype': 'SCRP', 'outcome_type': 'Transfer', 'sex_upon_outcome': 'Intact Male', 'location_lat': 30.6464645543469, 'location_long': -97.3031869367273, 'age_upon_outcome_in_weeks': 105.196428571429}, {'rec_num': 6935, 'age_upon_outcome': '1 year', 'animal_id': 'A754318', 'animal_type': 'Dog', 'breed': 'American Pit Bull Terrier Mix', 'color': 'Tan/White', 'date_of_birth': '2016-07-18', 'datetime': '2017-07-20 11:48:00', 'monthyear': '2017-07-20T11:48:00', 'name': 'Buddy', 'outcome_subtype': '', 'outcome_type': 'Return to Owner', 'sex_upon_outcome': 'Intact Male', 'location_lat': 30.499684557721, 'location_long': -97.4484573088344, 'age_upon_outcome_in_weeks': 52.4988095238095}, {'rec_num': 8212, 'age_upon_outcome': '8 years', 'animal_id': 'A566493', 'animal_type': 'Dog', 'breed': 'Labrador Retriever/Mastiff', 'color': 'Cream/Yellow', 'date_of_birth': '2009-02-11', 'datetime': '2017-06-16 10:46:00', 'monthyear': '2017-06-16T10:46:00', 'name': 'Buddy', 'outcome_subtype': 'Foster', 'outcome_type': 'Adoption', 'sex_upon_outcome': 'Neutered Male', 'location_lat': 30.735400849025, 'location_long': -97.4733007367498, 'age_upon_outcome_in_weeks': 435.349801587302}, {'rec_num': 9596, 'age_upon_outcome': '1 month', 'animal_id': 'A698556', 'animal_type': 'Dog', 'breed': 'Labrador Retriever/Boxer', 'color': 'Black/White', 'date_of_birth': '2015-03-11', 'datetime': '2015-05-09 12:29:00', 'monthyear': '2015-05-09T12:29:00', 'name': 'Buddy', 'outcome_subtype': '', 'outcome_type': 'Adoption', 'sex_upon_outcome': 'Neutered Male', 'location_lat': 30.6905858494311, 'location_long': -97.7346046107505, 'age_upon_outcome_in_weeks': 8.50287698412698}, {'rec_num': 9923, 'age_upon_outcome': '1 year', 'animal_id': 'A705566', 'animal_type': 'Dog', 'breed': 'Boxer/Bulldog', 'color': 'Brown/White', 'date_of_birth': '2014-06-19', 'datetime': '2015-06-23 17:14:00', 'monthyear': '2015-06-23T17:14:00', 'name': 'Buddy', 'outcome_subtype': '', 'outcome_type': 'Adoption', 'sex_upon_outcome': 'Neutered Male', 'location_lat': 30.4049435962897, 'location_long': -97.5316179632121, 'age_upon_outcome_in_weeks': 52.8168650793651}, {'age_upon_outcome': '2 years', 'animal_id': 'A123456', 'animal_type': 'Dog', 'breed': 'Labrador Retriever', 'color': 'Black', 'name': 'Buddy', 'outcome_type': 'Adoption'}]\n"
     ]
    }
   ],
   "source": [
    "search_criteria = {\"name\": \"Buddy\"}\n",
    "read_result = shelter.read(search_criteria)\n",
    "print(f\"Read Result: {read_result}\")"
   ]
  },
  {
   "cell_type": "code",
   "execution_count": 9,
   "id": "7e513ed0",
   "metadata": {},
   "outputs": [
    {
     "name": "stdout",
     "output_type": "stream",
     "text": [
      "Update Result: 16\n"
     ]
    }
   ],
   "source": [
    "update_criteria = {\"name\": \"Buddy\"}\n",
    "update_data = {\"age\": 6}\n",
    "update_result = shelter.update(update_criteria, update_data)\n",
    "print(f\"Update Result: {update_result}\")"
   ]
  },
  {
   "cell_type": "code",
   "execution_count": 10,
   "id": "9c2194c4",
   "metadata": {},
   "outputs": [
    {
     "name": "stdout",
     "output_type": "stream",
     "text": [
      "Delete Result: 16\n"
     ]
    }
   ],
   "source": [
    "delete_criteria = {\"name\": \"Buddy\"}\n",
    "delete_result = shelter.delete(delete_criteria)\n",
    "print(f\"Delete Result: {delete_result}\")"
   ]
  },
  {
   "cell_type": "code",
   "execution_count": null,
   "id": "360a0050",
   "metadata": {},
   "outputs": [],
   "source": []
  }
 ],
 "metadata": {
  "kernelspec": {
   "display_name": "Python 3 (ipykernel)",
   "language": "python",
   "name": "python3"
  },
  "language_info": {
   "codemirror_mode": {
    "name": "ipython",
    "version": 3
   },
   "file_extension": ".py",
   "mimetype": "text/x-python",
   "name": "python",
   "nbconvert_exporter": "python",
   "pygments_lexer": "ipython3",
   "version": "3.9.12"
  }
 },
 "nbformat": 4,
 "nbformat_minor": 5
}
